{
 "cells": [
  {
   "cell_type": "markdown",
   "metadata": {},
   "source": [
    "# Bingo!"
   ]
  },
  {
   "cell_type": "markdown",
   "metadata": {},
   "source": [
    "![game](http://s2.quickmeme.com/img/14/1494d43f99b56ab589c88a8138175c488be95d4c0b4dbdaebdea05d38790055f.jpg)"
   ]
  },
  {
   "cell_type": "code",
   "execution_count": 1,
   "metadata": {
    "collapsed": true
   },
   "outputs": [],
   "source": [
    "import pandas\n",
    "import hashlib\n",
    "import itertools\n",
    "import operator\n",
    "\n",
    "NUM_WINNERS = 2\n",
    "SEED = 42"
   ]
  },
  {
   "cell_type": "code",
   "execution_count": 2,
   "metadata": {
    "collapsed": false
   },
   "outputs": [
    {
     "name": "stdout",
     "output_type": "stream",
     "text": [
      "email    3\n",
      "dtype: int64\n"
     ]
    },
    {
     "data": {
      "text/html": [
       "<div>\n",
       "<table border=\"1\" class=\"dataframe\">\n",
       "  <thead>\n",
       "    <tr style=\"text-align: right;\">\n",
       "      <th></th>\n",
       "      <th>email</th>\n",
       "    </tr>\n",
       "  </thead>\n",
       "  <tbody>\n",
       "    <tr>\n",
       "      <th>0</th>\n",
       "      <td>java@otus.ru</td>\n",
       "    </tr>\n",
       "    <tr>\n",
       "      <th>1</th>\n",
       "      <td>python@otus.ru</td>\n",
       "    </tr>\n",
       "    <tr>\n",
       "      <th>2</th>\n",
       "      <td>guido@otus.ru</td>\n",
       "    </tr>\n",
       "  </tbody>\n",
       "</table>\n",
       "</div>"
      ],
      "text/plain": [
       "            email\n",
       "0    java@otus.ru\n",
       "1  python@otus.ru\n",
       "2   guido@otus.ru"
      ]
     },
     "execution_count": 2,
     "metadata": {},
     "output_type": "execute_result"
    }
   ],
   "source": [
    "emails = pandas.read_csv(\"emails.csv\")\n",
    "print emails.count()\n",
    "emails.head()"
   ]
  },
  {
   "cell_type": "markdown",
   "metadata": {},
   "source": [
    "# Naive approach"
   ]
  },
  {
   "cell_type": "code",
   "execution_count": 3,
   "metadata": {
    "collapsed": false
   },
   "outputs": [
    {
     "data": {
      "text/html": [
       "<div>\n",
       "<table border=\"1\" class=\"dataframe\">\n",
       "  <thead>\n",
       "    <tr style=\"text-align: right;\">\n",
       "      <th></th>\n",
       "      <th>email</th>\n",
       "    </tr>\n",
       "  </thead>\n",
       "  <tbody>\n",
       "    <tr>\n",
       "      <th>0</th>\n",
       "      <td>java@otus.ru</td>\n",
       "    </tr>\n",
       "    <tr>\n",
       "      <th>1</th>\n",
       "      <td>python@otus.ru</td>\n",
       "    </tr>\n",
       "  </tbody>\n",
       "</table>\n",
       "</div>"
      ],
      "text/plain": [
       "            email\n",
       "0    java@otus.ru\n",
       "1  python@otus.ru"
      ]
     },
     "execution_count": 3,
     "metadata": {},
     "output_type": "execute_result"
    }
   ],
   "source": [
    "emails.sample(NUM_WINNERS, random_state=SEED)"
   ]
  },
  {
   "cell_type": "markdown",
   "metadata": {},
   "source": [
    "# Enter Pi"
   ]
  },
  {
   "cell_type": "code",
   "execution_count": 4,
   "metadata": {
    "collapsed": false
   },
   "outputs": [
    {
     "name": "stdout",
     "output_type": "stream",
     "text": [
      "31415926535897932384\n"
     ]
    }
   ],
   "source": [
    "# http://www.cs.ox.ac.uk/people/jeremy.gibbons/publications/spigot.pdf\n",
    "def pi_digits():\n",
    "    \"\"\"generator for digits of pi\"\"\"\n",
    "    q, r, t, k, n, l = 1, 0, 1, 1, 3, 3\n",
    "    while True:\n",
    "        if 4 * q + r - t < n * t:\n",
    "            yield n\n",
    "            q, r, t, k, n, l = (10*q, 10*(r-n*t), t, k, (10*(3*q+r))/t-10*n, l)\n",
    "        else:\n",
    "            q, r, t, k, n, l = (q*k, (2*q+r)*l, t*l, k+1, (q*(7*k+2)+r*l)/(t*l), l+2)\n",
    "\n",
    "\n",
    "_g = pi_digits()\n",
    "print \"\".join([str(_g.next()) for _ in xrange(20)])"
   ]
  },
  {
   "cell_type": "code",
   "execution_count": 5,
   "metadata": {
    "collapsed": true
   },
   "outputs": [],
   "source": [
    "email2num = lambda email: int(hashlib.md5(email).hexdigest(), 16) % 10 ** 4"
   ]
  },
  {
   "cell_type": "code",
   "execution_count": 6,
   "metadata": {
    "collapsed": false
   },
   "outputs": [
    {
     "data": {
      "text/html": [
       "<div>\n",
       "<table border=\"1\" class=\"dataframe\">\n",
       "  <thead>\n",
       "    <tr style=\"text-align: right;\">\n",
       "      <th></th>\n",
       "      <th>email</th>\n",
       "      <th>num</th>\n",
       "    </tr>\n",
       "  </thead>\n",
       "  <tbody>\n",
       "    <tr>\n",
       "      <th>0</th>\n",
       "      <td>java@otus.ru</td>\n",
       "      <td>988</td>\n",
       "    </tr>\n",
       "    <tr>\n",
       "      <th>1</th>\n",
       "      <td>python@otus.ru</td>\n",
       "      <td>3267</td>\n",
       "    </tr>\n",
       "    <tr>\n",
       "      <th>2</th>\n",
       "      <td>guido@otus.ru</td>\n",
       "      <td>7764</td>\n",
       "    </tr>\n",
       "  </tbody>\n",
       "</table>\n",
       "</div>"
      ],
      "text/plain": [
       "            email   num\n",
       "0    java@otus.ru   988\n",
       "1  python@otus.ru  3267\n",
       "2   guido@otus.ru  7764"
      ]
     },
     "execution_count": 6,
     "metadata": {},
     "output_type": "execute_result"
    }
   ],
   "source": [
    "emails[\"num\"] = emails[\"email\"].map(email2num)\n",
    "assert len(emails[\"email\"].unique()) ==  len(emails[\"num\"].unique())\n",
    "emails.head()"
   ]
  },
  {
   "cell_type": "code",
   "execution_count": 7,
   "metadata": {
    "collapsed": false
   },
   "outputs": [],
   "source": [
    "class _Num(object):\n",
    "    def __init__(self, n):\n",
    "        self.n = n\n",
    "        self.s = str(n)\n",
    "        self.p = 0 # pointer in number string representation\n",
    "        self.l = len(self.s)\n",
    "\n",
    "    def move_p(self, d):\n",
    "        if d == self.s[self.p]:\n",
    "            self.p += 1\n",
    "        else:\n",
    "            self.p = 0\n",
    "\n",
    "    \n",
    "def find_nums_in_pi(nums, first_n=None):\n",
    "    MAX_POS = 10 ** 6\n",
    "    pi_gen = pi_digits()\n",
    "    first_n = first_n if first_n is not None else len(nums)\n",
    "    _nums = [_Num(n) for n in nums]\n",
    "    nums_pos = {}\n",
    "    for pos in itertools.count():\n",
    "        if pos % 1000 == 0:\n",
    "            print \"Current Pi position: %s. Nums found: %s\" % (pos, len(nums_pos))\n",
    "        if pos == MAX_POS:\n",
    "            raise RuntimeError(\"Circuit breaker!\")\n",
    "        d = str(pi_gen.next())\n",
    "        for cur_num in _nums:\n",
    "            cur_num.move_p(d)\n",
    "            # whole number found\n",
    "            if cur_num.p == cur_num.l:\n",
    "                nums_pos[cur_num.n] = pos - cur_num.l + 1\n",
    "                # found enough numbers\n",
    "                if len(nums_pos) == first_n:\n",
    "                    return nums_pos\n",
    "                # create new search array without found number\n",
    "                _nums = [num for num in _nums if num.n != cur_num.n]\n",
    "                break"
   ]
  },
  {
   "cell_type": "code",
   "execution_count": 8,
   "metadata": {
    "collapsed": false
   },
   "outputs": [
    {
     "name": "stdout",
     "output_type": "stream",
     "text": [
      "Current Pi position: 0. Nums found: 0\n",
      "Current Pi position: 1000. Nums found: 0\n",
      "{7764: 1953, 988: 1536}\n",
      "CPU times: user 319 ms, sys: 12.4 ms, total: 332 ms\n",
      "Wall time: 323 ms\n"
     ]
    }
   ],
   "source": [
    "%%time\n",
    "num_pos = find_nums_in_pi(emails[\"num\"].tolist(), first_n=NUM_WINNERS)\n",
    "print num_pos"
   ]
  },
  {
   "cell_type": "code",
   "execution_count": 9,
   "metadata": {
    "collapsed": false
   },
   "outputs": [
    {
     "name": "stdout",
     "output_type": "stream",
     "text": [
      "java@otus.ru -> 1536\n",
      "guido@otus.ru -> 1953\n"
     ]
    }
   ],
   "source": [
    "for n, p in sorted(num_pos.iteritems(), key=operator.itemgetter(1)):\n",
    "    r = emails.loc[emails['num'] == n]\n",
    "    print \"%s -> %s\" % (r[\"email\"].iloc[0], p)"
   ]
  },
  {
   "cell_type": "markdown",
   "metadata": {},
   "source": [
    "![winner](http://podrobnosti.ua/media/pictures/2015/10/30/thumbs/740x415/v-etu-pjatnitsu-pole-chudes-vyhodit-v-efir-rovno-25-god-podrjad-kadr-iz-video_rect_8d40de7cfa137c6ac9d9fcd7378620c0.jpg)"
   ]
  }
 ],
 "metadata": {
  "kernelspec": {
   "display_name": "Python 2",
   "language": "python",
   "name": "python2"
  },
  "language_info": {
   "codemirror_mode": {
    "name": "ipython",
    "version": 2
   },
   "file_extension": ".py",
   "mimetype": "text/x-python",
   "name": "python",
   "nbconvert_exporter": "python",
   "pygments_lexer": "ipython2",
   "version": "2.7.10"
  }
 },
 "nbformat": 4,
 "nbformat_minor": 1
}
